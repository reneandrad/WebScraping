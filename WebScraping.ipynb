{
  "nbformat": 4,
  "nbformat_minor": 0,
  "metadata": {
    "colab": {
      "name": "WebScraping.ipynb",
      "provenance": [],
      "collapsed_sections": [],
      "authorship_tag": "ABX9TyOW/XJEoeClVd2h0zN4FH9z",
      "include_colab_link": true
    },
    "kernelspec": {
      "name": "python3",
      "display_name": "Python 3"
    }
  },
  "cells": [
    {
      "cell_type": "markdown",
      "metadata": {
        "id": "view-in-github",
        "colab_type": "text"
      },
      "source": [
        "<a href=\"https://colab.research.google.com/github/reneandrad/WebScraping/blob/main/WebScraping.ipynb\" target=\"_parent\"><img src=\"https://colab.research.google.com/assets/colab-badge.svg\" alt=\"Open In Colab\"/></a>"
      ]
    },
    {
      "cell_type": "markdown",
      "metadata": {
        "id": "Tm92tuWeWmpG"
      },
      "source": [
        "Importação das bibliotecas necessárias"
      ]
    },
    {
      "cell_type": "code",
      "metadata": {
        "id": "-2Ahf9SANzC4"
      },
      "source": [
        "!pip install requests\n",
        "import requests\n",
        "import json\n",
        "from bs4 import BeautifulSoup"
      ],
      "execution_count": null,
      "outputs": []
    },
    {
      "cell_type": "markdown",
      "metadata": {
        "id": "278vR1o2WR3u"
      },
      "source": [
        "Usando o módulo requests.get para obter o código fonte da página"
      ]
    },
    {
      "cell_type": "code",
      "metadata": {
        "id": "yUqszaoNN6f9"
      },
      "source": [
        "html = requests.get(\"http://quotes.toscrape.com/\").content"
      ],
      "execution_count": 31,
      "outputs": []
    },
    {
      "cell_type": "markdown",
      "metadata": {
        "id": "fLzcsTz8VoiG"
      },
      "source": [
        " Utilizando o BeautifulSoup para fazer a análise do documento"
      ]
    },
    {
      "cell_type": "code",
      "metadata": {
        "id": "QUVCrhS3N9fc"
      },
      "source": [
        "soup = BeautifulSoup(html, 'html.parser')"
      ],
      "execution_count": 32,
      "outputs": []
    },
    {
      "cell_type": "markdown",
      "metadata": {
        "id": "9WLcjEaSV5HU"
      },
      "source": [
        "Buscando a class 'quote', onde ficam armazenadas as citações na pagina HTML"
      ]
    },
    {
      "cell_type": "code",
      "metadata": {
        "id": "R6K5LVIVOGlL"
      },
      "source": [
        "citacoes = soup.find_all('div', class_='quote')"
      ],
      "execution_count": 33,
      "outputs": []
    },
    {
      "cell_type": "markdown",
      "metadata": {
        "id": "BlxxLfyCWGcH"
      },
      "source": [
        "Criando uma lista para armazenar a citação e o autor da mesma. "
      ]
    },
    {
      "cell_type": "code",
      "metadata": {
        "id": "iw2WWZOPOHfT"
      },
      "source": [
        "lista = []\n",
        "for citacao in citacoes:\n",
        "    text = citacao.find('span', class_='text').text\n",
        "    author = citacao.find('small', class_='author').text\n",
        "    lista.append([text, author])"
      ],
      "execution_count": 34,
      "outputs": []
    },
    {
      "cell_type": "markdown",
      "metadata": {
        "id": "aiyBZ_xEWM6Q"
      },
      "source": [
        "Salvando os dados da lista em um arquivo json"
      ]
    },
    {
      "cell_type": "code",
      "metadata": {
        "id": "WvJTZeWDOKnb"
      },
      "source": [
        "with open ('dados.json', 'w') as json_file:\n",
        "  json.dump(lista, json_file, indent=4, ensure_ascii=False)"
      ],
      "execution_count": 35,
      "outputs": []
    }
  ]
}